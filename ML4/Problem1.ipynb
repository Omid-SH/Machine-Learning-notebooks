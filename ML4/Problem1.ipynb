{
  "nbformat": 4,
  "nbformat_minor": 0,
  "metadata": {
    "kernelspec": {
      "display_name": "Python 3",
      "language": "python",
      "name": "python3"
    },
    "language_info": {
      "codemirror_mode": {
        "name": "ipython",
        "version": 3
      },
      "file_extension": ".py",
      "mimetype": "text/x-python",
      "name": "python",
      "nbconvert_exporter": "python",
      "pygments_lexer": "ipython3",
      "version": "3.8.3"
    },
    "toc": {
      "base_numbering": 1,
      "nav_menu": {},
      "number_sections": true,
      "sideBar": true,
      "skip_h1_title": false,
      "title_cell": "Table of Contents",
      "title_sidebar": "Contents",
      "toc_cell": true,
      "toc_position": {},
      "toc_section_display": true,
      "toc_window_display": true
    },
    "colab": {
      "name": "Problem1.ipynb",
      "provenance": [],
      "collapsed_sections": [],
      "toc_visible": true
    }
  },
  "cells": [
    {
      "cell_type": "markdown",
      "metadata": {
        "toc": true,
        "id": "YNPKgLWZnOGn"
      },
      "source": [
        "<h1>Table of Contents<span class=\"tocSkip\"></span></h1>\n",
        "<div class=\"toc\"><ul class=\"toc-item\"><li><span><a href=\"#Problem-1\" data-toc-modified-id=\"Problem-1-1\"><span class=\"toc-item-num\">1&nbsp;&nbsp;</span>Problem 1</a></span><ul class=\"toc-item\"><li><span><a href=\"#Import\" data-toc-modified-id=\"Import-1.1\"><span class=\"toc-item-num\">1.1&nbsp;&nbsp;</span>Import</a></span></li><li><span><a href=\"#Optimization\" data-toc-modified-id=\"Optimization-1.2\"><span class=\"toc-item-num\">1.2&nbsp;&nbsp;</span>Optimization</a></span><ul class=\"toc-item\"><li><span><a href=\"#Simple-SGD-optimization\" data-toc-modified-id=\"Simple-SGD-optimization-1.2.1\"><span class=\"toc-item-num\">1.2.1&nbsp;&nbsp;</span>Simple SGD optimization</a></span></li><li><span><a href=\"#SGD-with-momentum\" data-toc-modified-id=\"SGD-with-momentum-1.2.2\"><span class=\"toc-item-num\">1.2.2&nbsp;&nbsp;</span>SGD with momentum</a></span></li><li><span><a href=\"#Target-functions\" data-toc-modified-id=\"Target-functions-1.2.3\"><span class=\"toc-item-num\">1.2.3&nbsp;&nbsp;</span>Target functions</a></span></li><li><span><a href=\"#Plot-cost\" data-toc-modified-id=\"Plot-cost-1.2.4\"><span class=\"toc-item-num\">1.2.4&nbsp;&nbsp;</span>Plot cost</a></span></li><li><span><a href=\"#Parameters\" data-toc-modified-id=\"Parameters-1.2.5\"><span class=\"toc-item-num\">1.2.5&nbsp;&nbsp;</span>Parameters</a></span></li><li><span><a href=\"#Rosenbrock-function\" data-toc-modified-id=\"Rosenbrock-function-1.2.6\"><span class=\"toc-item-num\">1.2.6&nbsp;&nbsp;</span>Rosenbrock function</a></span></li><li><span><a href=\"#Powel-Function\" data-toc-modified-id=\"Powel-Function-1.2.7\"><span class=\"toc-item-num\">1.2.7&nbsp;&nbsp;</span>Powel Function</a></span></li><li><span><a href=\"#Question\" data-toc-modified-id=\"Question-1.2.8\"><span class=\"toc-item-num\">1.2.8&nbsp;&nbsp;</span>Question</a></span></li></ul></li><li><span><a href=\"#Regularization\" data-toc-modified-id=\"Regularization-1.3\"><span class=\"toc-item-num\">1.3&nbsp;&nbsp;</span>Regularization</a></span><ul class=\"toc-item\"><li><span><a href=\"#Parameters\" data-toc-modified-id=\"Parameters-1.3.1\"><span class=\"toc-item-num\">1.3.1&nbsp;&nbsp;</span>Parameters</a></span></li><li><span><a href=\"#Loading-dataset\" data-toc-modified-id=\"Loading-dataset-1.3.2\"><span class=\"toc-item-num\">1.3.2&nbsp;&nbsp;</span>Loading dataset</a></span></li><li><span><a href=\"#Objective-function\" data-toc-modified-id=\"Objective-function-1.3.3\"><span class=\"toc-item-num\">1.3.3&nbsp;&nbsp;</span>Objective function</a></span></li><li><span><a href=\"#Regularization-factor-=-0\" data-toc-modified-id=\"Regularization-factor-=-0-1.3.4\"><span class=\"toc-item-num\">1.3.4&nbsp;&nbsp;</span>Regularization factor = 0</a></span></li><li><span><a href=\"#Regularization-factor-=-0.001\" data-toc-modified-id=\"Regularization-factor-=-0.001-1.3.5\"><span class=\"toc-item-num\">1.3.5&nbsp;&nbsp;</span>Regularization factor = 0.001</a></span></li><li><span><a href=\"#Regularization-factor-=-0.01\" data-toc-modified-id=\"Regularization-factor-=-0.01-1.3.6\"><span class=\"toc-item-num\">1.3.6&nbsp;&nbsp;</span>Regularization factor = 0.01</a></span></li><li><span><a href=\"#Question\" data-toc-modified-id=\"Question-1.3.7\"><span class=\"toc-item-num\">1.3.7&nbsp;&nbsp;</span>Question</a></span></li></ul></li></ul></li></ul></div>"
      ]
    },
    {
      "cell_type": "markdown",
      "metadata": {
        "id": "pgh5U0bWnOGz"
      },
      "source": [
        "# Problem 1\n",
        "Please fill todo parts of this code. \n",
        "You can change any part of the code that you think it is needed but we do not suggest that. \n",
        "\n",
        "After you filled the todo parts please run the whole network one time and then upload your results. "
      ]
    },
    {
      "cell_type": "markdown",
      "metadata": {
        "id": "xGiHcT7nnOG1"
      },
      "source": [
        "## Import \n",
        "Import your required libraries in this cell. \n",
        "\n",
        "**Note**: You cannot use torch.optim library in this problem. "
      ]
    },
    {
      "cell_type": "code",
      "metadata": {
        "id": "ze55J3o_nOG5"
      },
      "source": [
        "import matplotlib.pyplot as plt\n",
        "import numpy as np\n",
        "import torch\n",
        "\n",
        "from sklearn.model_selection import train_test_split\n",
        "from pandas import read_csv"
      ],
      "execution_count": 4,
      "outputs": []
    },
    {
      "cell_type": "markdown",
      "metadata": {
        "id": "oihXVrEQnOG7"
      },
      "source": [
        "## Optimization"
      ]
    },
    {
      "cell_type": "markdown",
      "metadata": {
        "id": "jYrPJUT7nOG8"
      },
      "source": [
        "### Simple SGD optimization"
      ]
    },
    {
      "cell_type": "code",
      "metadata": {
        "id": "wnquKtyAnOG9"
      },
      "source": [
        "def vanilla_sgd_optimization(func, input_dim, num_iteration, step_size):\n",
        "    '''\n",
        "    This function finds the local minimum of a function with vanilla sgd.\n",
        "    \n",
        "    Inputs:\n",
        "    func: target function\n",
        "    input_dim: dimension of the function input\n",
        "    num_iteration: number of iterations that sgd should be done. \n",
        "    step_size: size of the steps of the sgd\n",
        "    \n",
        "    Outputs:\n",
        "    x: the local minimum point of the function\n",
        "    func_value_list: list of values of the function in the sgd steps\n",
        "    '''\n",
        "    x = torch.randn(input_dim, requires_grad=True)\n",
        "    func_value_list = []\n",
        "    for _ in range(num_iteration):\n",
        "      f = func(x)\n",
        "      func_value_list.append(f.data)\n",
        "      f.backward()\n",
        "      x.data -= step_size * x.grad\n",
        "      x.grad.zero_()\n",
        "\n",
        "    return x, func_value_list"
      ],
      "execution_count": null,
      "outputs": []
    },
    {
      "cell_type": "markdown",
      "metadata": {
        "id": "G9aIAluLnOG-"
      },
      "source": [
        "### SGD with momentum"
      ]
    },
    {
      "cell_type": "code",
      "metadata": {
        "id": "rDU06HEKnOHA"
      },
      "source": [
        "def momentum_sgd_optimization(func, input_dim, num_iteration, step_size, v=0, alpha=0.9):\n",
        "    '''\n",
        "    This function finds the local minimum of a function with momentum sgd.\n",
        "    \n",
        "    Inputs:\n",
        "    func: target function\n",
        "    input_dim: dimension of the function input\n",
        "    num_iteration: number of iterations that sgd should be done. \n",
        "    step_size: size of the steps of the sgd\n",
        "    v: initial velocity \n",
        "    alpha: momentum parameter\n",
        "    \n",
        "    Outputs:\n",
        "    x: the local minimum point of the function\n",
        "    func_value_list: list of values of the function in the sgd steps\n",
        "    '''\n",
        "    \n",
        "    x = torch.randn(input_dim, requires_grad=True)\n",
        "    func_value_list = []\n",
        "    for _ in range(num_iteration):\n",
        "      f = func(x)\n",
        "      func_value_list.append(f.data)\n",
        "      f.backward()\n",
        "      v = alpha*v - step_size * x.grad\n",
        "      x.data += v\n",
        "      x.grad.zero_()\n",
        "        \n",
        "    return x, func_value_list"
      ],
      "execution_count": 5,
      "outputs": []
    },
    {
      "cell_type": "markdown",
      "metadata": {
        "id": "R6eKqFNLnOHB"
      },
      "source": [
        "### Target functions \n",
        "Implement these two functions:\n",
        "* Rosenbrock function: \n",
        "\\begin{equation}\n",
        "f(x) = 100(x_2 - x_1^2)^2 + (1 - x_2)^2\n",
        "\\end{equation}\n",
        "\n",
        "* Powel function: \n",
        "\\begin{equation}\n",
        "f(x) = (x_1 - 10x_2)^2 + 5(x_3 - x_4)^2 + (x_2 - 2x_3)^4 + 10(x_1 - x_4)^4\n",
        "\\end{equation}"
      ]
    },
    {
      "cell_type": "code",
      "metadata": {
        "id": "ne42OCp0nOHF"
      },
      "source": [
        "def rosen_brock_function(x):\n",
        "\treturn 100.0*(x[1]-x[0]**2.0)**2.0 + (1-x[1])**2.0\n",
        "\n",
        "def powel_function(x):\n",
        "\treturn (x[0] - 10.0*x[1])**2.0 + 5.0*(x[2] - x[3])**2.0 + (x[1]-2.0*x[2])**4.0 + 10.0*(x[0] - x[3])**4.0"
      ],
      "execution_count": null,
      "outputs": []
    },
    {
      "cell_type": "code",
      "metadata": {
        "colab": {
          "base_uri": "https://localhost:8080/"
        },
        "id": "kbv2J4a7B4Oi",
        "outputId": "49df69ec-219d-4f2f-ba4f-e81d6250112e"
      },
      "source": [
        "powel_function(np.array([1,2,3,4]))"
      ],
      "execution_count": null,
      "outputs": [
        {
          "output_type": "execute_result",
          "data": {
            "text/plain": [
              "1432.0"
            ]
          },
          "metadata": {
            "tags": []
          },
          "execution_count": 27
        }
      ]
    },
    {
      "cell_type": "markdown",
      "metadata": {
        "id": "T1ltVsVenOHF"
      },
      "source": [
        "### Plot cost "
      ]
    },
    {
      "cell_type": "code",
      "metadata": {
        "id": "UZTfh6fJnOHG"
      },
      "source": [
        "def plot_function_value(vanilla_sgd_function_values, momentum_sgd_function_values):\n",
        "    plt.figure(figsize=(10, 8))\n",
        "    plt.plot(np.log(momentum_sgd_function_values), label='momentom')\n",
        "    plt.plot(np.log(vanilla_sgd_function_values), label='vanilla')\n",
        "    plt.legend(fontsize=14)\n",
        "    plt.xlabel('Iteration', fontsize=14)\n",
        "    plt.ylabel('Function value', fontsize=14)\n",
        "    plt.show()"
      ],
      "execution_count": null,
      "outputs": []
    },
    {
      "cell_type": "markdown",
      "metadata": {
        "id": "IrHFC4_ynOHG"
      },
      "source": [
        "### Parameters \n",
        "**Note**: Use these parameters for this section and do not change them."
      ]
    },
    {
      "cell_type": "code",
      "metadata": {
        "id": "5z1nFlKxnOHH"
      },
      "source": [
        "NUM_ITERATIONS = 10000\n",
        "STEP_SIZE = 1e-3\n",
        "ROSEN_BROCK_INPUT_DIM = 2\n",
        "POWEL_INPUT_DIM = 4"
      ],
      "execution_count": null,
      "outputs": []
    },
    {
      "cell_type": "markdown",
      "metadata": {
        "id": "0NiIP4fknOHH"
      },
      "source": [
        "### Rosenbrock function"
      ]
    },
    {
      "cell_type": "code",
      "metadata": {
        "id": "FEzUL0zenOHH",
        "colab": {
          "base_uri": "https://localhost:8080/",
          "height": 537
        },
        "outputId": "97419df6-eb5c-4dbe-f61c-4b0a6bee1ea5"
      },
      "source": [
        "vanilla_sgd_min_x, vanilla_sgd_function_values = vanilla_sgd_optimization(rosen_brock_function, ROSEN_BROCK_INPUT_DIM, NUM_ITERATIONS, STEP_SIZE)\n",
        "\n",
        "momentum_sgd_min_x, momentom_sgd_function_values = momentum_sgd_optimization(rosen_brock_function, ROSEN_BROCK_INPUT_DIM, NUM_ITERATIONS, STEP_SIZE)\n",
        "\n",
        "print('min of rosenbrock function with vanilla sgd is {}'.format(rosen_brock_function(vanilla_sgd_min_x)))\n",
        "print('min of rosenbrock function with momentum sgd is {}'.format(rosen_brock_function(momentum_sgd_min_x)))\n",
        "plot_function_value(vanilla_sgd_function_values, momentom_sgd_function_values)"
      ],
      "execution_count": null,
      "outputs": [
        {
          "output_type": "stream",
          "text": [
            "min of rosenbrock function with vanilla sgd is 4.3307935015945986e-10\n",
            "min of rosenbrock function with momentum sgd is 6.430411758628907e-13\n"
          ],
          "name": "stdout"
        },
        {
          "output_type": "display_data",
          "data": {
            "image/png": "[encoded data removed]",
            "text/plain": [
              "<Figure size 720x576 with 1 Axes>"
            ]
          },
          "metadata": {
            "tags": [],
            "needs_background": "light"
          }
        }
      ]
    },
    {
      "cell_type": "markdown",
      "metadata": {
        "id": "R8kvfLqKnOHI"
      },
      "source": [
        "### Powel Function"
      ]
    },
    {
      "cell_type": "code",
      "metadata": {
        "id": "wkJFXCbZnOHI",
        "colab": {
          "base_uri": "https://localhost:8080/",
          "height": 537
        },
        "outputId": "565f8886-f943-42e2-b7a1-7a4b9cb1844d"
      },
      "source": [
        "vanilla_sgd_min_x, vanilla_sgd_function_values = vanilla_sgd_optimization(powel_function, POWEL_INPUT_DIM, NUM_ITERATIONS, STEP_SIZE)\n",
        "\n",
        "momentum_sgd_min_x, momentom_sgd_function_values = momentum_sgd_optimization(powel_function, POWEL_INPUT_DIM, NUM_ITERATIONS, STEP_SIZE)\n",
        "\n",
        "print('min of powel function with vanilla sgd is {}'.format(powel_function(vanilla_sgd_min_x)))\n",
        "print('min of powel function with momentum sgd is {}'.format(powel_function(momentum_sgd_min_x)))\n",
        "plot_function_value(vanilla_sgd_function_values, momentom_sgd_function_values)"
      ],
      "execution_count": null,
      "outputs": [
        {
          "output_type": "stream",
          "text": [
            "min of powel function with vanilla sgd is 0.00029297018772922456\n",
            "min of powel function with momentum sgd is 2.5965937311411835e-06\n"
          ],
          "name": "stdout"
        },
        {
          "output_type": "display_data",
          "data": {
            "image/png": "[encoded data removed]",
            "text/plain": [
              "<Figure size 720x576 with 1 Axes>"
            ]
          },
          "metadata": {
            "tags": [],
            "needs_background": "light"
          }
        }
      ]
    },
    {
      "cell_type": "markdown",
      "metadata": {
        "id": "lbJ0DdG2nOHJ"
      },
      "source": [
        "### Question\n",
        "According to the above plots, what is the effect of momentum? "
      ]
    },
    {
      "cell_type": "markdown",
      "metadata": {
        "id": "55FfFPkvnOHJ"
      },
      "source": [
        "Answer: It seems that by using momentum term we can acheive faster convergance to the answer and so momentum method has better answer in the same iteration steps.\n"
      ]
    },
    {
      "cell_type": "markdown",
      "metadata": {
        "id": "uFSGHGLInOHK"
      },
      "source": [
        "## Regularization"
      ]
    },
    {
      "cell_type": "markdown",
      "metadata": {
        "id": "-YRs8vY7nOHK"
      },
      "source": [
        "### Parameters\n",
        "**Note**: Use this parameters for this section and do not change them."
      ]
    },
    {
      "cell_type": "code",
      "metadata": {
        "id": "SE7KwRLInOHK"
      },
      "source": [
        "feature_dim = 2\n",
        "train_ratio = 0.8\n",
        "NUM_ITERATIONS = 10000\n",
        "STEP_SIZE = 1"
      ],
      "execution_count": 1,
      "outputs": []
    },
    {
      "cell_type": "markdown",
      "metadata": {
        "id": "TcSiBbZ3nOHL"
      },
      "source": [
        "### Loading dataset\n",
        "* Load the salary dataset. \n",
        "* Consider YearsExperience column as X and add one column of ones to it for bias. \n",
        "* Consider Salary column as Y.\n",
        "* Split X and Y to train and test. "
      ]
    },
    {
      "cell_type": "code",
      "metadata": {
        "id": "Q64eJvFEnOHL",
        "colab": {
          "base_uri": "https://localhost:8080/",
          "height": 990
        },
        "outputId": "b917979e-b25a-47f7-c8ec-3879007795d9"
      },
      "source": [
        "df = read_csv('Salary_Data.csv')\n",
        "df.insert(1, \"Bias\", 1, True) \n",
        "display(df)\n",
        "X_learn = df.loc[:,['YearsExperience','Bias']]\n",
        "X_learn = X_learn.to_numpy().tolist()\n",
        "Y_learn = df.loc[:,'Salary']\n",
        "Y_learn = Y_learn.to_numpy().tolist()\n",
        "\n",
        "X_train, X_test, Y_train, Y_test = train_test_split(X_learn, Y_learn, test_size = 1 - train_ratio)\n",
        "X_train = torch.tensor(X_train)\n",
        "Y_train = torch.tensor(Y_train)\n",
        "X_test = torch.tensor(X_test)\n",
        "Y_test = torch.tensor(Y_test)\n"
      ],
      "execution_count": 9,
      "outputs": [
        {
          "output_type": "display_data",
          "data": {
            "text/html": [
              "<div>\n",
              "<style scoped>\n",
              "    .dataframe tbody tr th:only-of-type {\n",
              "        vertical-align: middle;\n",
              "    }\n",
              "\n",
              "    .dataframe tbody tr th {\n",
              "        vertical-align: top;\n",
              "    }\n",
              "\n",
              "    .dataframe thead th {\n",
              "        text-align: right;\n",
              "    }\n",
              "</style>\n",
              "<table border=\"1\" class=\"dataframe\">\n",
              "  <thead>\n",
              "    <tr style=\"text-align: right;\">\n",
              "      <th></th>\n",
              "      <th>YearsExperience</th>\n",
              "      <th>Bias</th>\n",
              "      <th>Salary</th>\n",
              "    </tr>\n",
              "  </thead>\n",
              "  <tbody>\n",
              "    <tr>\n",
              "      <th>0</th>\n",
              "      <td>1.1</td>\n",
              "      <td>1</td>\n",
              "      <td>39343.0</td>\n",
              "    </tr>\n",
              "    <tr>\n",
              "      <th>1</th>\n",
              "      <td>1.3</td>\n",
              "      <td>1</td>\n",
              "      <td>46205.0</td>\n",
              "    </tr>\n",
              "    <tr>\n",
              "      <th>2</th>\n",
              "      <td>1.5</td>\n",
              "      <td>1</td>\n",
              "      <td>37731.0</td>\n",
              "    </tr>\n",
              "    <tr>\n",
              "      <th>3</th>\n",
              "      <td>2.0</td>\n",
              "      <td>1</td>\n",
              "      <td>43525.0</td>\n",
              "    </tr>\n",
              "    <tr>\n",
              "      <th>4</th>\n",
              "      <td>2.2</td>\n",
              "      <td>1</td>\n",
              "      <td>39891.0</td>\n",
              "    </tr>\n",
              "    <tr>\n",
              "      <th>5</th>\n",
              "      <td>2.9</td>\n",
              "      <td>1</td>\n",
              "      <td>56642.0</td>\n",
              "    </tr>\n",
              "    <tr>\n",
              "      <th>6</th>\n",
              "      <td>3.0</td>\n",
              "      <td>1</td>\n",
              "      <td>60150.0</td>\n",
              "    </tr>\n",
              "    <tr>\n",
              "      <th>7</th>\n",
              "      <td>3.2</td>\n",
              "      <td>1</td>\n",
              "      <td>54445.0</td>\n",
              "    </tr>\n",
              "    <tr>\n",
              "      <th>8</th>\n",
              "      <td>3.2</td>\n",
              "      <td>1</td>\n",
              "      <td>64445.0</td>\n",
              "    </tr>\n",
              "    <tr>\n",
              "      <th>9</th>\n",
              "      <td>3.7</td>\n",
              "      <td>1</td>\n",
              "      <td>57189.0</td>\n",
              "    </tr>\n",
              "    <tr>\n",
              "      <th>10</th>\n",
              "      <td>3.9</td>\n",
              "      <td>1</td>\n",
              "      <td>63218.0</td>\n",
              "    </tr>\n",
              "    <tr>\n",
              "      <th>11</th>\n",
              "      <td>4.0</td>\n",
              "      <td>1</td>\n",
              "      <td>55794.0</td>\n",
              "    </tr>\n",
              "    <tr>\n",
              "      <th>12</th>\n",
              "      <td>4.0</td>\n",
              "      <td>1</td>\n",
              "      <td>56957.0</td>\n",
              "    </tr>\n",
              "    <tr>\n",
              "      <th>13</th>\n",
              "      <td>4.1</td>\n",
              "      <td>1</td>\n",
              "      <td>57081.0</td>\n",
              "    </tr>\n",
              "    <tr>\n",
              "      <th>14</th>\n",
              "      <td>4.5</td>\n",
              "      <td>1</td>\n",
              "      <td>61111.0</td>\n",
              "    </tr>\n",
              "    <tr>\n",
              "      <th>15</th>\n",
              "      <td>4.9</td>\n",
              "      <td>1</td>\n",
              "      <td>67938.0</td>\n",
              "    </tr>\n",
              "    <tr>\n",
              "      <th>16</th>\n",
              "      <td>5.1</td>\n",
              "      <td>1</td>\n",
              "      <td>66029.0</td>\n",
              "    </tr>\n",
              "    <tr>\n",
              "      <th>17</th>\n",
              "      <td>5.3</td>\n",
              "      <td>1</td>\n",
              "      <td>83088.0</td>\n",
              "    </tr>\n",
              "    <tr>\n",
              "      <th>18</th>\n",
              "      <td>5.9</td>\n",
              "      <td>1</td>\n",
              "      <td>81363.0</td>\n",
              "    </tr>\n",
              "    <tr>\n",
              "      <th>19</th>\n",
              "      <td>6.0</td>\n",
              "      <td>1</td>\n",
              "      <td>93940.0</td>\n",
              "    </tr>\n",
              "    <tr>\n",
              "      <th>20</th>\n",
              "      <td>6.8</td>\n",
              "      <td>1</td>\n",
              "      <td>91738.0</td>\n",
              "    </tr>\n",
              "    <tr>\n",
              "      <th>21</th>\n",
              "      <td>7.1</td>\n",
              "      <td>1</td>\n",
              "      <td>98273.0</td>\n",
              "    </tr>\n",
              "    <tr>\n",
              "      <th>22</th>\n",
              "      <td>7.9</td>\n",
              "      <td>1</td>\n",
              "      <td>101302.0</td>\n",
              "    </tr>\n",
              "    <tr>\n",
              "      <th>23</th>\n",
              "      <td>8.2</td>\n",
              "      <td>1</td>\n",
              "      <td>113812.0</td>\n",
              "    </tr>\n",
              "    <tr>\n",
              "      <th>24</th>\n",
              "      <td>8.7</td>\n",
              "      <td>1</td>\n",
              "      <td>109431.0</td>\n",
              "    </tr>\n",
              "    <tr>\n",
              "      <th>25</th>\n",
              "      <td>9.0</td>\n",
              "      <td>1</td>\n",
              "      <td>105582.0</td>\n",
              "    </tr>\n",
              "    <tr>\n",
              "      <th>26</th>\n",
              "      <td>9.5</td>\n",
              "      <td>1</td>\n",
              "      <td>116969.0</td>\n",
              "    </tr>\n",
              "    <tr>\n",
              "      <th>27</th>\n",
              "      <td>9.6</td>\n",
              "      <td>1</td>\n",
              "      <td>112635.0</td>\n",
              "    </tr>\n",
              "    <tr>\n",
              "      <th>28</th>\n",
              "      <td>10.3</td>\n",
              "      <td>1</td>\n",
              "      <td>122391.0</td>\n",
              "    </tr>\n",
              "    <tr>\n",
              "      <th>29</th>\n",
              "      <td>10.5</td>\n",
              "      <td>1</td>\n",
              "      <td>121872.0</td>\n",
              "    </tr>\n",
              "  </tbody>\n",
              "</table>\n",
              "</div>"
            ],
            "text/plain": [
              "    YearsExperience  Bias    Salary\n",
              "0               1.1     1   39343.0\n",
              "1               1.3     1   46205.0\n",
              "2               1.5     1   37731.0\n",
              "3               2.0     1   43525.0\n",
              "4               2.2     1   39891.0\n",
              "5               2.9     1   56642.0\n",
              "6               3.0     1   60150.0\n",
              "7               3.2     1   54445.0\n",
              "8               3.2     1   64445.0\n",
              "9               3.7     1   57189.0\n",
              "10              3.9     1   63218.0\n",
              "11              4.0     1   55794.0\n",
              "12              4.0     1   56957.0\n",
              "13              4.1     1   57081.0\n",
              "14              4.5     1   61111.0\n",
              "15              4.9     1   67938.0\n",
              "16              5.1     1   66029.0\n",
              "17              5.3     1   83088.0\n",
              "18              5.9     1   81363.0\n",
              "19              6.0     1   93940.0\n",
              "20              6.8     1   91738.0\n",
              "21              7.1     1   98273.0\n",
              "22              7.9     1  101302.0\n",
              "23              8.2     1  113812.0\n",
              "24              8.7     1  109431.0\n",
              "25              9.0     1  105582.0\n",
              "26              9.5     1  116969.0\n",
              "27              9.6     1  112635.0\n",
              "28             10.3     1  122391.0\n",
              "29             10.5     1  121872.0"
            ]
          },
          "metadata": {
            "tags": []
          }
        }
      ]
    },
    {
      "cell_type": "markdown",
      "metadata": {
        "id": "yoOOm-zcnOHM"
      },
      "source": [
        "### Objective function"
      ]
    },
    {
      "cell_type": "code",
      "metadata": {
        "id": "-GoUXoBxnOHM"
      },
      "source": [
        "def linear_equation_error(x, y, w, reg_factor=0):\n",
        "    '''\n",
        "    This function should calculate the norm 2 of error of the linear equation.\n",
        "    Input: \n",
        "    x: feature vector (n_sample, feature_dim)\n",
        "    y: label vector (n_sample, 1)\n",
        "    w: weights (feature_dim, 1)\n",
        "    reg_factor: regularization factor. Note that for evaluation this parameter should be set to 0. \n",
        "    \n",
        "    Output: \n",
        "    loss: (norm2(y - x*w) + reg_factor*norm2(w))/n_sample\n",
        "    '''\n",
        "    w = w[:, None]\n",
        "    n_sample = x.shape[0]\n",
        "    error = (torch.norm(y - torch.matmul(x, w)) + reg_factor*torch.norm(w))/n_sample\n",
        "    return error"
      ],
      "execution_count": 6,
      "outputs": []
    },
    {
      "cell_type": "code",
      "metadata": {
        "colab": {
          "base_uri": "https://localhost:8080/"
        },
        "id": "EG3p6F5wQse1",
        "outputId": "eca65377-4cc6-44d2-cc1f-2fe0f70d5f82"
      },
      "source": [
        "naive_linear_equation_error_handler = lambda w: linear_equation_error(X_train, \n",
        "                                                                      Y_train, \n",
        "                                                                      w,\n",
        "                                                                      reg_factor)\n",
        "type(naive_linear_equation_error_handler)"
      ],
      "execution_count": 7,
      "outputs": [
        {
          "output_type": "execute_result",
          "data": {
            "text/plain": [
              "function"
            ]
          },
          "metadata": {
            "tags": []
          },
          "execution_count": 7
        }
      ]
    },
    {
      "cell_type": "markdown",
      "metadata": {
        "id": "WywtzPHYnOHM"
      },
      "source": [
        "### Regularization factor = 0"
      ]
    },
    {
      "cell_type": "code",
      "metadata": {
        "id": "PqH50MfSnOHN",
        "colab": {
          "base_uri": "https://localhost:8080/"
        },
        "outputId": "16da568c-b3d5-4908-efe4-736acc584c9a"
      },
      "source": [
        "reg_factor = 0\n",
        "naive_linear_equation_error_handler = lambda w: linear_equation_error(X_train, \n",
        "                                                                      Y_train, \n",
        "                                                                      w,\n",
        "                                                                      reg_factor)\n",
        "\n",
        "naive_weights, naive_train_error = momentum_sgd_optimization(naive_linear_equation_error_handler, feature_dim, NUM_ITERATIONS, STEP_SIZE)\n",
        "\n",
        "print('train error without regularization: {}'.format(linear_equation_error(X_train, Y_train, naive_weights, reg_factor)))\n",
        "print('test error without regularization: {}'.format(linear_equation_error(X_test, Y_test, naive_weights, reg_factor)))"
      ],
      "execution_count": 10,
      "outputs": [
        {
          "output_type": "stream",
          "text": [
            "train error without regularization: 35827.56640625\n",
            "test error without regularization: 16298.77734375\n"
          ],
          "name": "stdout"
        }
      ]
    },
    {
      "cell_type": "markdown",
      "metadata": {
        "id": "uhatqTF6nOHN"
      },
      "source": [
        "### Regularization factor = 0.001"
      ]
    },
    {
      "cell_type": "code",
      "metadata": {
        "id": "jHYjlZ6pnOHO",
        "colab": {
          "base_uri": "https://localhost:8080/"
        },
        "outputId": "1adf8669-ccb6-4945-e8e1-d2743494f3ff"
      },
      "source": [
        "reg_factor = 0.001\n",
        "regularized_linear_equation_error_handler = lambda w: linear_equation_error(X_train, \n",
        "                                                                            Y_train,\n",
        "                                                                            w,\n",
        "                                                                            reg_factor)\n",
        "\n",
        "regularized_weights, regularized_train_error = momentum_sgd_optimization(\n",
        "    naive_linear_equation_error_handler, feature_dim, NUM_ITERATIONS, STEP_SIZE)\n",
        "\n",
        "print('train error with regularization: {}'.format(linear_equation_error(X_train, Y_train, naive_weights, reg_factor)))\n",
        "print('test error with regularization: {}'.format(linear_equation_error(X_test, Y_test, naive_weights, reg_factor)))"
      ],
      "execution_count": 14,
      "outputs": [
        {
          "output_type": "stream",
          "text": [
            "train error with regularization: 35829.03515625\n",
            "test error with regularization: 16304.6474609375\n"
          ],
          "name": "stdout"
        }
      ]
    },
    {
      "cell_type": "markdown",
      "metadata": {
        "id": "vHtNPwKQnOHO"
      },
      "source": [
        "### Regularization factor = 0.01"
      ]
    },
    {
      "cell_type": "code",
      "metadata": {
        "scrolled": true,
        "id": "T1Sn2Hd3nOHO",
        "colab": {
          "base_uri": "https://localhost:8080/"
        },
        "outputId": "29ef1631-72a5-4ba9-cce0-363c0d50dcb6"
      },
      "source": [
        "reg_factor = 0.01\n",
        "regularized_linear_equation_error_handler = lambda w: linear_equation_error(X_train, \n",
        "                                                                            Y_train, \n",
        "                                                                            w,\n",
        "                                                                            reg_factor)\n",
        "\n",
        "regularized_weights, regularized_train_error = momentum_sgd_optimization(\n",
        "    naive_linear_equation_error_handler, feature_dim, NUM_ITERATIONS, STEP_SIZE)\n",
        "\n",
        "print('train error with regularization: {}'.format(linear_equation_error(X_train, Y_train, naive_weights, reg_factor)))\n",
        "print('test error with regularization: {}'.format(linear_equation_error(X_test, Y_test, naive_weights, reg_factor)))"
      ],
      "execution_count": 15,
      "outputs": [
        {
          "output_type": "stream",
          "text": [
            "train error with regularization: 35842.2421875\n",
            "test error with regularization: 16357.4794921875\n"
          ],
          "name": "stdout"
        }
      ]
    },
    {
      "cell_type": "markdown",
      "metadata": {
        "id": "7eoa_IHgnOHP"
      },
      "source": [
        "### Question \n",
        "* What is the effect of regularization?\n",
        "* What is the effect of size of regularization term?"
      ]
    },
    {
      "cell_type": "markdown",
      "metadata": {
        "id": "LY7s8UV1nOHQ"
      },
      "source": [
        "Answer: "
      ]
    },
    {
      "cell_type": "markdown",
      "metadata": {
        "id": "sF2rHhRxGLM6"
      },
      "source": [
        "Regularization is a factor that we consider to reduce the variance of the model and this technique discourages learning a more complex or flexible model, so as to avoid the risk of overfitting. So as you can see in the error difinition we have a term for w size.\n",
        "\n",
        "For small coeffient regularization term as the results show we do not face significant error problem but if we increase the term too much, then our model may lose some important features at a point and we get big error terms."
      ]
    }
  ]
}