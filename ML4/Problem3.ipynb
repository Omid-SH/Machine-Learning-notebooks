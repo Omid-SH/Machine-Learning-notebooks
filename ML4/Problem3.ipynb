{
  "nbformat": 4,
  "nbformat_minor": 0,
  "metadata": {
    "colab": {
      "name": "Problem3.ipynb",
      "provenance": [],
      "collapsed_sections": []
    },
    "kernelspec": {
      "name": "python3",
      "display_name": "Python 3"
    }
  },
  "cells": [
    {
      "cell_type": "markdown",
      "metadata": {
        "id": "4xT7wrj3KQdt"
      },
      "source": [
        "**Denoising by AEs**"
      ]
    },
    {
      "cell_type": "code",
      "metadata": {
        "id": "cngHJz2vJl5G"
      },
      "source": [
        "###Add python library here####\n",
        "import torch\n",
        "from torch.autograd import Variable\n",
        "import torch.nn as nn\n",
        "import torch.nn.functional as F\n",
        "import torchvision.transforms as transforms\n",
        "import torchvision.datasets as dsets\n",
        "import matplotlib.pyplot as plt\n",
        "import numpy as np\n",
        "import torch.optim as optim\n",
        "%matplotlib inline\n",
        "figsize=(15, 6)\n",
        "plt.style.use('fivethirtyeight')"
      ],
      "execution_count": 7,
      "outputs": []
    },
    {
      "cell_type": "markdown",
      "metadata": {
        "id": "wdyGzMH-LQcS"
      },
      "source": [
        "**Loading dataset**"
      ]
    },
    {
      "cell_type": "code",
      "metadata": {
        "id": "I4bkzgoSKyl-"
      },
      "source": [
        "# Fashion-MNIST data loader\n",
        "\n",
        "img_transform = transforms.Compose([\n",
        "    transforms.ToTensor(),\n",
        "    transforms.Normalize(0.5,0.5)\n",
        "])\n",
        "train_dataset = dsets.FashionMNIST(root='./data',\n",
        "                                   train=True,\n",
        "                                   transform=img_transform,\n",
        "                                   download=True)\n",
        "\n",
        "test_dataset = dsets.FashionMNIST(root='./data',\n",
        "                                  train=False,\n",
        "                                  transform=img_transform)\n",
        "\n",
        "batch_size = 256\n",
        "train_loader = torch.utils.data.DataLoader(dataset=train_dataset, \n",
        "                                           batch_size=batch_size, \n",
        "                                           shuffle=True)\n",
        "\n",
        "test_loader = torch.utils.data.DataLoader(dataset=test_dataset, \n",
        "                                          batch_size=batch_size, \n",
        "                                          shuffle=False)\n",
        "\n",
        "n_iters = 10000\n",
        "num_epochs = n_iters / (len(train_dataset) / batch_size)\n",
        "num_epochs = int(num_epochs)"
      ],
      "execution_count": 13,
      "outputs": []
    },
    {
      "cell_type": "markdown",
      "metadata": {
        "id": "3kYoGp6eiDge"
      },
      "source": [
        "**Undercomplete**"
      ]
    },
    {
      "cell_type": "markdown",
      "metadata": {
        "id": "j7mf5NaDLmr4"
      },
      "source": [
        "Autoencoder architecture"
      ]
    },
    {
      "cell_type": "code",
      "metadata": {
        "id": "GlgNKHadKyrR"
      },
      "source": [
        "class autoencoder(nn.Module):\n",
        "    def __init__(self):\n",
        "        super(autoencoder, self).__init__()\n",
        "        self.encoder = nn.Sequential(nn.Linear(28 * 28, 200), nn.Tanh())\n",
        "        self.decoder = nn.Sequential(nn.Linear(200, 28 * 28), nn.Tanh())\n",
        "\n",
        "    def forward(self, x):\n",
        "        x = self.encoder(x)\n",
        "        x = self.decoder(x)\n",
        "        return x       "
      ],
      "execution_count": 18,
      "outputs": []
    },
    {
      "cell_type": "markdown",
      "metadata": {
        "id": "89IdXlF-OKMk"
      },
      "source": [
        "Evaluation"
      ]
    },
    {
      "cell_type": "code",
      "metadata": {
        "id": "X5b32qq_Kyve",
        "colab": {
          "base_uri": "https://localhost:8080/"
        },
        "outputId": "08c70dda-7dcb-4483-b238-e3c0a8e4978c"
      },
      "source": [
        "learning_rate=0.1\n",
        "model = autoencoder()\n",
        "criterion = nn.MSELoss()\n",
        "optimizer = optim.SGD(model.parameters(), lr=learning_rate)\n",
        "\n",
        "for epoch in range(num_epochs):\n",
        "    for data in train_loader:\n",
        "        img, _ = data\n",
        "        images = img.view(-1, 28*28).requires_grad_()\n",
        "        noisy_images = images + 0.1 * torch.randn(images.shape)\n",
        "        # ===================forward=====================\n",
        "        output = model.forward(noisy_images)\n",
        "        loss = criterion(output, images)\n",
        "        # ===================backward====================\n",
        "        optimizer.zero_grad()\n",
        "        loss.backward()\n",
        "        optimizer.step()\n",
        "    # ===================log========================\n",
        "    print('epoch [{}/{}], loss:{:.4f}'\n",
        "          .format(epoch + 1, num_epochs, loss.item()))\n",
        "    if (epoch+1) % 10 == 0:\n",
        "        test_loss = 0\n",
        "        for data in test_loader:\n",
        "            img, _ = data\n",
        "            images = img.view(-1, 28 * 28).requires_grad_()\n",
        "            noisy_images = images + 0.1 * torch.randn(images.shape)\n",
        "            output = model.forward(noisy_images)\n",
        "            test_loss += criterion(output, images)\n",
        "        test_loss = test_loss / len(test_loader)\n",
        "        print('Test Loss : {}'.format(test_loss))\n",
        "    if (epoch+1) == num_epochs:\n",
        "        test_loss = 0\n",
        "        for data in test_loader:\n",
        "            img, _ = data\n",
        "            images = img.view(-1, 28 * 28).requires_grad_()\n",
        "            noisy_images = images + 0.1 * torch.randn(images.shape)\n",
        "            output = model.forward(noisy_images)\n",
        "            test_loss += criterion(output, images)\n",
        "        test_loss = test_loss / len(test_loader)\n",
        "        print('Finall model test loss : {}'.format(test_loss))"
      ],
      "execution_count": 20,
      "outputs": [
        {
          "output_type": "stream",
          "text": [
            "epoch [1/42], loss:0.2383\n",
            "epoch [2/42], loss:0.1779\n",
            "epoch [3/42], loss:0.1601\n",
            "epoch [4/42], loss:0.1564\n",
            "epoch [5/42], loss:0.1492\n",
            "epoch [6/42], loss:0.1350\n",
            "epoch [7/42], loss:0.1257\n",
            "epoch [8/42], loss:0.1321\n",
            "epoch [9/42], loss:0.1293\n",
            "epoch [10/42], loss:0.1202\n",
            "Test Loss : 0.11545739322900772\n",
            "epoch [11/42], loss:0.1134\n",
            "epoch [12/42], loss:0.1048\n",
            "epoch [13/42], loss:0.1034\n",
            "epoch [14/42], loss:0.1054\n",
            "epoch [15/42], loss:0.0968\n",
            "epoch [16/42], loss:0.0925\n",
            "epoch [17/42], loss:0.0952\n",
            "epoch [18/42], loss:0.0982\n",
            "epoch [19/42], loss:0.0964\n",
            "epoch [20/42], loss:0.0843\n",
            "Test Loss : 0.09409471601247787\n",
            "epoch [21/42], loss:0.0910\n",
            "epoch [22/42], loss:0.0905\n",
            "epoch [23/42], loss:0.0856\n",
            "epoch [24/42], loss:0.0941\n",
            "epoch [25/42], loss:0.0824\n",
            "epoch [26/42], loss:0.0827\n",
            "epoch [27/42], loss:0.0845\n",
            "epoch [28/42], loss:0.0843\n",
            "epoch [29/42], loss:0.0807\n",
            "epoch [30/42], loss:0.0719\n",
            "Test Loss : 0.08341971784830093\n",
            "epoch [31/42], loss:0.0849\n",
            "epoch [32/42], loss:0.0764\n",
            "epoch [33/42], loss:0.0770\n",
            "epoch [34/42], loss:0.0789\n",
            "epoch [35/42], loss:0.0749\n",
            "epoch [36/42], loss:0.0765\n",
            "epoch [37/42], loss:0.0812\n",
            "epoch [38/42], loss:0.0779\n",
            "epoch [39/42], loss:0.0773\n",
            "epoch [40/42], loss:0.0769\n",
            "Test Loss : 0.07614651322364807\n",
            "epoch [41/42], loss:0.0707\n",
            "epoch [42/42], loss:0.0810\n",
            "Finall model test loss : 0.07492364943027496\n"
          ],
          "name": "stdout"
        }
      ]
    },
    {
      "cell_type": "markdown",
      "metadata": {
        "id": "AiGaVss7jN-v"
      },
      "source": [
        "**Overcomplete**"
      ]
    },
    {
      "cell_type": "markdown",
      "metadata": {
        "id": "GvouExpajT1r"
      },
      "source": [
        "Autoencoder architecture"
      ]
    },
    {
      "cell_type": "code",
      "metadata": {
        "id": "9qty2q--jQsk"
      },
      "source": [
        "class autoencoder(nn.Module):\n",
        "    def __init__(self):\n",
        "        super(autoencoder, self).__init__()\n",
        "        self.encoder = nn.Sequential(nn.Linear(28 * 28, 1200), nn.Tanh())\n",
        "        self.decoder = nn.Sequential(nn.Linear(1200, 28 * 28), nn.Tanh())\n",
        "\n",
        "    def forward(self, x):\n",
        "        x = self.encoder(x)\n",
        "        x = self.decoder(x)\n",
        "        return x    "
      ],
      "execution_count": 21,
      "outputs": []
    },
    {
      "cell_type": "markdown",
      "metadata": {
        "id": "59vLHA3TjUXV"
      },
      "source": [
        "Evaluation"
      ]
    },
    {
      "cell_type": "code",
      "metadata": {
        "colab": {
          "base_uri": "https://localhost:8080/"
        },
        "id": "gFNAoAixjUlC",
        "outputId": "2586a731-745c-4c86-9726-fba468de6ed8"
      },
      "source": [
        "learning_rate=0.1\n",
        "model = autoencoder()\n",
        "criterion = nn.MSELoss()\n",
        "optimizer = optim.SGD(model.parameters(), lr=learning_rate)\n",
        "\n",
        "for epoch in range(num_epochs):\n",
        "    for data in train_loader:\n",
        "        img, _ = data\n",
        "        images = img.view(-1, 28*28).requires_grad_()\n",
        "        noisy_images = images + 0.1 * torch.randn(images.shape)\n",
        "        # ===================forward=====================\n",
        "        output = model.forward(noisy_images)\n",
        "        loss = criterion(output, images)\n",
        "        # ===================backward====================\n",
        "        optimizer.zero_grad()\n",
        "        loss.backward()\n",
        "        optimizer.step()\n",
        "    # ===================log========================\n",
        "    print('epoch [{}/{}], loss:{:.4f}'\n",
        "          .format(epoch + 1, num_epochs, loss.item()))\n",
        "    if (epoch+1) % 10 == 0:\n",
        "        test_loss = 0\n",
        "        for data in test_loader:\n",
        "            img, _ = data\n",
        "            images = img.view(-1, 28 * 28).requires_grad_()\n",
        "            noisy_images = images + 0.1 * torch.randn(images.shape)\n",
        "            output = model.forward(noisy_images)\n",
        "            test_loss += criterion(output, images)\n",
        "        test_loss = test_loss / len(test_loader)\n",
        "        print('Test Loss : {}'.format(test_loss))\n",
        "    if (epoch+1) == num_epochs:\n",
        "        test_loss = 0\n",
        "        for data in test_loader:\n",
        "            img, _ = data\n",
        "            images = img.view(-1, 28 * 28).requires_grad_()\n",
        "            noisy_images = images + 0.1 * torch.randn(images.shape)\n",
        "            output = model.forward(noisy_images)\n",
        "            test_loss += criterion(output, images)\n",
        "        test_loss = test_loss / len(test_loader)\n",
        "        print('Finall model test loss : {}'.format(test_loss))"
      ],
      "execution_count": 22,
      "outputs": [
        {
          "output_type": "stream",
          "text": [
            "epoch [1/42], loss:0.1490\n",
            "epoch [2/42], loss:0.1255\n",
            "epoch [3/42], loss:0.1155\n",
            "epoch [4/42], loss:0.1042\n",
            "epoch [5/42], loss:0.1068\n",
            "epoch [6/42], loss:0.0885\n",
            "epoch [7/42], loss:0.0929\n",
            "epoch [8/42], loss:0.0780\n",
            "epoch [9/42], loss:0.0844\n",
            "epoch [10/42], loss:0.0764\n",
            "Test Loss : 0.08018103241920471\n",
            "epoch [11/42], loss:0.0724\n",
            "epoch [12/42], loss:0.0744\n",
            "epoch [13/42], loss:0.0696\n",
            "epoch [14/42], loss:0.0689\n",
            "epoch [15/42], loss:0.0684\n",
            "epoch [16/42], loss:0.0719\n",
            "epoch [17/42], loss:0.0658\n",
            "epoch [18/42], loss:0.0651\n",
            "epoch [19/42], loss:0.0680\n",
            "epoch [20/42], loss:0.0591\n",
            "Test Loss : 0.06349001824855804\n",
            "epoch [21/42], loss:0.0554\n",
            "epoch [22/42], loss:0.0610\n",
            "epoch [23/42], loss:0.0590\n",
            "epoch [24/42], loss:0.0571\n",
            "epoch [25/42], loss:0.0548\n",
            "epoch [26/42], loss:0.0549\n",
            "epoch [27/42], loss:0.0598\n",
            "epoch [28/42], loss:0.0548\n",
            "epoch [29/42], loss:0.0532\n",
            "epoch [30/42], loss:0.0474\n",
            "Test Loss : 0.05410249903798103\n",
            "epoch [31/42], loss:0.0501\n",
            "epoch [32/42], loss:0.0527\n",
            "epoch [33/42], loss:0.0561\n",
            "epoch [34/42], loss:0.0459\n",
            "epoch [35/42], loss:0.0547\n",
            "epoch [36/42], loss:0.0504\n",
            "epoch [37/42], loss:0.0459\n",
            "epoch [38/42], loss:0.0492\n",
            "epoch [39/42], loss:0.0475\n",
            "epoch [40/42], loss:0.0451\n",
            "Test Loss : 0.047885697335004807\n",
            "epoch [41/42], loss:0.0466\n",
            "epoch [42/42], loss:0.0461\n",
            "Finall model test loss : 0.046896014362573624\n"
          ],
          "name": "stdout"
        }
      ]
    },
    {
      "cell_type": "markdown",
      "metadata": {
        "id": "qfMqVAbhjU6x"
      },
      "source": [
        "**2. Undercomplete Vs Overcomplete**"
      ]
    },
    {
      "cell_type": "markdown",
      "metadata": {
        "id": "FM9gR3R3jVC-"
      },
      "source": [
        "Well, in undercomplete networks, the dimention of the hidden layer is smaller than input layer. So this network should use important features of the data and if we set the hidden layer size too small we may face big error but it has two profites. First of all, because our network is smaller than overcomplete so we should pay less computational costs. In undercomplete networks we usually face less overfitting and risk of memorizing data instead of learning it. As a proof of this, for the undercomplete model test loss is usually smaller than train loss. But for the overcomplete network we can see that test loss is usually larger than train loss. \n",
        "\n",
        "On the other hand overcomplete networks have lots of parameters and are more powerful models and in the results we can see less loss in this network comparing to the undercomplete network.\n",
        "\n",
        "So if you have a rich dataset and you have chosen the train part of it in a good manner and a completely distrubuited way so that we can guarantee that our overcomplete network has seen most of the input space, then we have minimized the chance of overfitting and  overcomplete networks may be good choices and they have usually less loss"
      ]
    },
    {
      "cell_type": "markdown",
      "metadata": {
        "id": "rUhxwEVionVD"
      },
      "source": [
        "**L1 regularization** $(\\lambda = 0.1)$"
      ]
    },
    {
      "cell_type": "markdown",
      "metadata": {
        "id": "1jUzrS7bokVf"
      },
      "source": [
        "Autoencoder architecture"
      ]
    },
    {
      "cell_type": "code",
      "metadata": {
        "id": "3rUvvczlokVj"
      },
      "source": [
        "class autoencoder(nn.Module):\n",
        "    def __init__(self):\n",
        "        super(autoencoder, self).__init__()\n",
        "        self.encoder = nn.Sequential(nn.Linear(28 * 28, 1200), nn.Tanh())\n",
        "        self.decoder = nn.Sequential(nn.Linear(1200, 28 * 28), nn.Tanh())\n",
        "\n",
        "    def forward(self, x):\n",
        "        x = self.encoder(x)\n",
        "        x = self.decoder(x)\n",
        "        return x    "
      ],
      "execution_count": 23,
      "outputs": []
    },
    {
      "cell_type": "markdown",
      "metadata": {
        "id": "PxlMbtdKokVl"
      },
      "source": [
        "Evaluation"
      ]
    },
    {
      "cell_type": "code",
      "metadata": {
        "colab": {
          "base_uri": "https://localhost:8080/"
        },
        "id": "I8ZicoUVokVm",
        "outputId": "21172886-59b6-4487-9007-33db3f184f83"
      },
      "source": [
        "learning_rate=0.1\n",
        "Lambda = 0.1\n",
        "model = autoencoder()\n",
        "\n",
        "criterion1 = nn.MSELoss()\n",
        "criterion2 = nn.L1Loss()\n",
        "optimizer = optim.SGD(model.parameters(), lr=learning_rate)\n",
        "\n",
        "for epoch in range(num_epochs):\n",
        "    for data in train_loader:\n",
        "        img, _ = data\n",
        "        images = img.view(-1, 28*28).requires_grad_()\n",
        "        noisy_images = images + 0.1 * torch.randn(images.shape)\n",
        "        # ===================forward=====================\n",
        "        output = model.forward(noisy_images)\n",
        "        shape = model.encoder(noisy_images)\n",
        "        loss = criterion(output, images) + Lambda * criterion2(shape, torch.zeros(shape.shape))\n",
        "        # ===================backward====================\n",
        "        optimizer.zero_grad()\n",
        "        loss.backward()\n",
        "        optimizer.step()\n",
        "    # ===================log========================\n",
        "    print('epoch [{}/{}], loss:{:.4f}'\n",
        "          .format(epoch + 1, num_epochs, loss.item()))\n",
        "    if (epoch+1) % 10 == 0:\n",
        "        test_loss = 0\n",
        "        for data in test_loader:\n",
        "            img, _ = data\n",
        "            images = img.view(-1, 28 * 28).requires_grad_()\n",
        "            noisy_images = images + 0.1 * torch.randn(images.shape)\n",
        "            output = model.forward(noisy_images)\n",
        "            test_loss += criterion1(output, images)\n",
        "        test_loss = test_loss / len(test_loader)\n",
        "        print('Test Loss : {}'.format(test_loss))\n",
        "    if (epoch+1) == num_epochs:\n",
        "        test_loss = 0\n",
        "        for data in test_loader:\n",
        "            img, _ = data\n",
        "            images = img.view(-1, 28 * 28).requires_grad_()\n",
        "            noisy_images = images + 0.1 * torch.randn(images.shape)\n",
        "            output = model.forward(noisy_images)\n",
        "            test_loss += criterion1(output, images)\n",
        "        test_loss = test_loss / len(test_loader)\n",
        "        print('Finall model test loss : {}'.format(test_loss))"
      ],
      "execution_count": 25,
      "outputs": [
        {
          "output_type": "stream",
          "text": [
            "epoch [1/42], loss:0.2014\n",
            "epoch [2/42], loss:0.1779\n",
            "epoch [3/42], loss:0.1636\n",
            "epoch [4/42], loss:0.1434\n",
            "epoch [5/42], loss:0.1310\n",
            "epoch [6/42], loss:0.1288\n",
            "epoch [7/42], loss:0.1224\n",
            "epoch [8/42], loss:0.1164\n",
            "epoch [9/42], loss:0.1138\n",
            "epoch [10/42], loss:0.1136\n",
            "Test Loss : 0.07887706160545349\n",
            "epoch [11/42], loss:0.1146\n",
            "epoch [12/42], loss:0.1092\n",
            "epoch [13/42], loss:0.1030\n",
            "epoch [14/42], loss:0.1016\n",
            "epoch [15/42], loss:0.0955\n",
            "epoch [16/42], loss:0.0959\n",
            "epoch [17/42], loss:0.0942\n",
            "epoch [18/42], loss:0.0909\n",
            "epoch [19/42], loss:0.0965\n",
            "epoch [20/42], loss:0.0861\n",
            "Test Loss : 0.06191210821270943\n",
            "epoch [21/42], loss:0.0959\n",
            "epoch [22/42], loss:0.0934\n",
            "epoch [23/42], loss:0.0910\n",
            "epoch [24/42], loss:0.0861\n",
            "epoch [25/42], loss:0.0795\n",
            "epoch [26/42], loss:0.0817\n",
            "epoch [27/42], loss:0.0895\n",
            "epoch [28/42], loss:0.0797\n",
            "epoch [29/42], loss:0.0802\n",
            "epoch [30/42], loss:0.0784\n",
            "Test Loss : 0.05270365998148918\n",
            "epoch [31/42], loss:0.0824\n",
            "epoch [32/42], loss:0.0784\n",
            "epoch [33/42], loss:0.0804\n",
            "epoch [34/42], loss:0.0776\n",
            "epoch [35/42], loss:0.0764\n",
            "epoch [36/42], loss:0.0756\n",
            "epoch [37/42], loss:0.0758\n",
            "epoch [38/42], loss:0.0762\n",
            "epoch [39/42], loss:0.0773\n",
            "epoch [40/42], loss:0.0798\n",
            "Test Loss : 0.046688418835401535\n",
            "epoch [41/42], loss:0.0741\n",
            "epoch [42/42], loss:0.0749\n",
            "Finall model test loss : 0.04569657891988754\n"
          ],
          "name": "stdout"
        }
      ]
    },
    {
      "cell_type": "markdown",
      "metadata": {
        "id": "sMy3m2lgo6fL"
      },
      "source": [
        "**L2 regularization** $(\\lambda = 0.1)$"
      ]
    },
    {
      "cell_type": "markdown",
      "metadata": {
        "id": "uy4n-2n4o7OE"
      },
      "source": [
        "Autoencoder architecture"
      ]
    },
    {
      "cell_type": "code",
      "metadata": {
        "id": "-5U9XmWfo7OH"
      },
      "source": [
        "class autoencoder(nn.Module):\n",
        "    def __init__(self):\n",
        "        super(autoencoder, self).__init__()\n",
        "        self.encoder = nn.Sequential(nn.Linear(28 * 28, 1200), nn.Tanh())\n",
        "        self.decoder = nn.Sequential(nn.Linear(1200, 28 * 28), nn.Tanh())\n",
        "\n",
        "    def forward(self, x):\n",
        "        x = self.encoder(x)\n",
        "        x = self.decoder(x)\n",
        "        return x    "
      ],
      "execution_count": 26,
      "outputs": []
    },
    {
      "cell_type": "markdown",
      "metadata": {
        "id": "CSKqWXuHo7OK"
      },
      "source": [
        "Evaluation"
      ]
    },
    {
      "cell_type": "code",
      "metadata": {
        "colab": {
          "base_uri": "https://localhost:8080/"
        },
        "id": "fUDsMX1uo7OL",
        "outputId": "599d8a14-94f4-4ef8-880a-7c3e476626fc"
      },
      "source": [
        "learning_rate=0.1\n",
        "Lambda = 0.1\n",
        "model = autoencoder()\n",
        "\n",
        "criterion1 = nn.MSELoss()\n",
        "criterion2 = nn.MSELoss()\n",
        "optimizer = optim.SGD(model.parameters(), lr=learning_rate)\n",
        "\n",
        "for epoch in range(num_epochs):\n",
        "    for data in train_loader:\n",
        "        img, _ = data\n",
        "        images = img.view(-1, 28*28).requires_grad_()\n",
        "        noisy_images = images + 0.1 * torch.randn(images.shape)\n",
        "        # ===================forward=====================\n",
        "        output = model.forward(noisy_images)\n",
        "        shape = model.encoder(noisy_images)\n",
        "        loss = criterion(output, images) + Lambda * criterion2(shape, torch.zeros(shape.shape))\n",
        "        # ===================backward====================\n",
        "        optimizer.zero_grad()\n",
        "        loss.backward()\n",
        "        optimizer.step()\n",
        "    # ===================log========================\n",
        "    print('epoch [{}/{}], loss:{:.4f}'\n",
        "          .format(epoch + 1, num_epochs, loss.item()))\n",
        "    if (epoch+1) % 10 == 0:\n",
        "        test_loss = 0\n",
        "        for data in test_loader:\n",
        "            img, _ = data\n",
        "            images = img.view(-1, 28 * 28).requires_grad_()\n",
        "            noisy_images = images + 0.1 * torch.randn(images.shape)\n",
        "            output = model.forward(noisy_images)\n",
        "            test_loss += criterion1(output, images)\n",
        "        test_loss = test_loss / len(test_loader)\n",
        "        print('Test Loss : {}'.format(test_loss))\n",
        "    if (epoch+1) == num_epochs:\n",
        "        test_loss = 0\n",
        "        for data in test_loader:\n",
        "            img, _ = data\n",
        "            images = img.view(-1, 28 * 28).requires_grad_()\n",
        "            noisy_images = images + 0.1 * torch.randn(images.shape)\n",
        "            output = model.forward(noisy_images)\n",
        "            test_loss += criterion1(output, images)\n",
        "        test_loss = test_loss / len(test_loader)\n",
        "        print('Finall model test loss : {}'.format(test_loss))"
      ],
      "execution_count": 28,
      "outputs": [
        {
          "output_type": "stream",
          "text": [
            "epoch [1/42], loss:0.1919\n",
            "epoch [2/42], loss:0.1616\n",
            "epoch [3/42], loss:0.1468\n",
            "epoch [4/42], loss:0.1263\n",
            "epoch [5/42], loss:0.1257\n",
            "epoch [6/42], loss:0.1149\n",
            "epoch [7/42], loss:0.1052\n",
            "epoch [8/42], loss:0.0979\n",
            "epoch [9/42], loss:0.0988\n",
            "epoch [10/42], loss:0.0967\n",
            "Test Loss : 0.0787639170885086\n",
            "epoch [11/42], loss:0.0936\n",
            "epoch [12/42], loss:0.0953\n",
            "epoch [13/42], loss:0.0879\n",
            "epoch [14/42], loss:0.0858\n",
            "epoch [15/42], loss:0.0840\n",
            "epoch [16/42], loss:0.0811\n",
            "epoch [17/42], loss:0.0835\n",
            "epoch [18/42], loss:0.0830\n",
            "epoch [19/42], loss:0.0785\n",
            "epoch [20/42], loss:0.0796\n",
            "Test Loss : 0.06167052313685417\n",
            "epoch [21/42], loss:0.0768\n",
            "epoch [22/42], loss:0.0706\n",
            "epoch [23/42], loss:0.0726\n",
            "epoch [24/42], loss:0.0696\n",
            "epoch [25/42], loss:0.0662\n",
            "epoch [26/42], loss:0.0653\n",
            "epoch [27/42], loss:0.0688\n",
            "epoch [28/42], loss:0.0696\n",
            "epoch [29/42], loss:0.0649\n",
            "epoch [30/42], loss:0.0647\n",
            "Test Loss : 0.052354954183101654\n",
            "epoch [31/42], loss:0.0593\n",
            "epoch [32/42], loss:0.0664\n",
            "epoch [33/42], loss:0.0658\n",
            "epoch [34/42], loss:0.0632\n",
            "epoch [35/42], loss:0.0622\n",
            "epoch [36/42], loss:0.0586\n",
            "epoch [37/42], loss:0.0583\n",
            "epoch [38/42], loss:0.0580\n",
            "epoch [39/42], loss:0.0581\n",
            "epoch [40/42], loss:0.0622\n",
            "Test Loss : 0.04628167673945427\n",
            "epoch [41/42], loss:0.0560\n",
            "epoch [42/42], loss:0.0540\n",
            "Finall model test loss : 0.045320313423871994\n"
          ],
          "name": "stdout"
        }
      ]
    },
    {
      "cell_type": "markdown",
      "metadata": {
        "id": "AalkiX2Vo8Zt"
      },
      "source": [
        "**Dropout regularization** $(dp = 0.4)$"
      ]
    },
    {
      "cell_type": "markdown",
      "metadata": {
        "id": "0sqxTWjqo8ra"
      },
      "source": [
        "Autoencoder architecture"
      ]
    },
    {
      "cell_type": "code",
      "metadata": {
        "id": "yHWOz0ypo8rb"
      },
      "source": [
        "class autoencoder(nn.Module):\n",
        "    def __init__(self, dp):\n",
        "        super(autoencoder, self).__init__()\n",
        "        self.encoder = nn.Sequential(nn.Linear(28 * 28, 1200), nn.Tanh())\n",
        "        self.decoder = nn.Sequential(nn.Dropout(p=dp), nn.Linear(1200, 28 * 28), nn.Tanh())\n",
        "\n",
        "    def forward(self, x):\n",
        "        x = self.encoder(x)\n",
        "        x = self.decoder(x)\n",
        "        return x    "
      ],
      "execution_count": 29,
      "outputs": []
    },
    {
      "cell_type": "markdown",
      "metadata": {
        "id": "V3NbUbqBo8rc"
      },
      "source": [
        "Evaluation"
      ]
    },
    {
      "cell_type": "code",
      "metadata": {
        "colab": {
          "base_uri": "https://localhost:8080/"
        },
        "id": "fIiCebgWo8rd",
        "outputId": "bab20fcc-136e-49b9-9b20-a876f7b273cc"
      },
      "source": [
        "learning_rate=0.1\n",
        "dp = 0.4\n",
        "model = autoencoder(dp)\n",
        "criterion = nn.MSELoss()\n",
        "optimizer = optim.SGD(model.parameters(), lr=learning_rate)\n",
        "\n",
        "for epoch in range(num_epochs):\n",
        "    for data in train_loader:\n",
        "        img, _ = data\n",
        "        images = img.view(-1, 28*28).requires_grad_()\n",
        "        noisy_images = images + 0.1 * torch.randn(images.shape)\n",
        "        # ===================forward=====================\n",
        "        output = model.forward(noisy_images)\n",
        "        loss = criterion(output, images)\n",
        "        # ===================backward====================\n",
        "        optimizer.zero_grad()\n",
        "        loss.backward()\n",
        "        optimizer.step()\n",
        "    # ===================log========================\n",
        "    print('epoch [{}/{}], loss:{:.4f}'\n",
        "          .format(epoch + 1, num_epochs, loss.item()))\n",
        "    if (epoch+1) % 10 == 0:\n",
        "        test_loss = 0\n",
        "        for data in test_loader:\n",
        "            img, _ = data\n",
        "            images = img.view(-1, 28 * 28).requires_grad_()\n",
        "            noisy_images = images + 0.1 * torch.randn(images.shape)\n",
        "            output = model.forward(noisy_images)\n",
        "            test_loss += criterion(output, images)\n",
        "        test_loss = test_loss / len(test_loader)\n",
        "        print('Test Loss : {}'.format(test_loss))\n",
        "    if (epoch+1) == num_epochs:\n",
        "        test_loss = 0\n",
        "        for data in test_loader:\n",
        "            img, _ = data\n",
        "            images = img.view(-1, 28 * 28).requires_grad_()\n",
        "            noisy_images = images + 0.1 * torch.randn(images.shape)\n",
        "            output = model.forward(noisy_images)\n",
        "            test_loss += criterion(output, images)\n",
        "        test_loss = test_loss / len(test_loader)\n",
        "        print('Finall model test loss : {}'.format(test_loss))"
      ],
      "execution_count": 30,
      "outputs": [
        {
          "output_type": "stream",
          "text": [
            "epoch [1/42], loss:0.1913\n",
            "epoch [2/42], loss:0.1615\n",
            "epoch [3/42], loss:0.1366\n",
            "epoch [4/42], loss:0.1134\n",
            "epoch [5/42], loss:0.1208\n",
            "epoch [6/42], loss:0.1057\n",
            "epoch [7/42], loss:0.1007\n",
            "epoch [8/42], loss:0.0979\n",
            "epoch [9/42], loss:0.1058\n",
            "epoch [10/42], loss:0.0952\n",
            "Test Loss : 0.09390175342559814\n",
            "epoch [11/42], loss:0.0890\n",
            "epoch [12/42], loss:0.0898\n",
            "epoch [13/42], loss:0.0839\n",
            "epoch [14/42], loss:0.0907\n",
            "epoch [15/42], loss:0.0812\n",
            "epoch [16/42], loss:0.0796\n",
            "epoch [17/42], loss:0.0768\n",
            "epoch [18/42], loss:0.0708\n",
            "epoch [19/42], loss:0.0794\n",
            "epoch [20/42], loss:0.0726\n",
            "Test Loss : 0.07497431337833405\n",
            "epoch [21/42], loss:0.0772\n",
            "epoch [22/42], loss:0.0686\n",
            "epoch [23/42], loss:0.0703\n",
            "epoch [24/42], loss:0.0643\n",
            "epoch [25/42], loss:0.0715\n",
            "epoch [26/42], loss:0.0698\n",
            "epoch [27/42], loss:0.0681\n",
            "epoch [28/42], loss:0.0682\n",
            "epoch [29/42], loss:0.0604\n",
            "epoch [30/42], loss:0.0656\n",
            "Test Loss : 0.06477691233158112\n",
            "epoch [31/42], loss:0.0720\n",
            "epoch [32/42], loss:0.0585\n",
            "epoch [33/42], loss:0.0602\n",
            "epoch [34/42], loss:0.0622\n",
            "epoch [35/42], loss:0.0609\n",
            "epoch [36/42], loss:0.0612\n",
            "epoch [37/42], loss:0.0567\n",
            "epoch [38/42], loss:0.0561\n",
            "epoch [39/42], loss:0.0604\n",
            "epoch [40/42], loss:0.0585\n",
            "Test Loss : 0.05824201554059982\n",
            "epoch [41/42], loss:0.0549\n",
            "epoch [42/42], loss:0.0583\n",
            "Finall model test loss : 0.05712922662496567\n"
          ],
          "name": "stdout"
        }
      ]
    },
    {
      "cell_type": "markdown",
      "metadata": {
        "id": "s7KJJSg_pAEv"
      },
      "source": [
        "**3. Regularization methods comparison**"
      ]
    },
    {
      "cell_type": "markdown",
      "metadata": {
        "id": "Y5rdndyxsLwz"
      },
      "source": [
        "Well we use regularization to improve network learning and prevent overfitting and instead helping network to learn more important information and prevent working just speciall part of the network or group of neurons and instead helping to see a layer as a integrated unit and distrubuited activation in hidden layer.\n",
        "\n",
        "So we used exactly the same network as the overcomplete network of the previous part ans we can see improvment in test loss and now by regularization test loss are less than train loss so we do not have overfitting problem of the overcomplete network.\n",
        "\n",
        "Finally it seems that L1 and L2 regularizations have better resaults than dropout method."
      ]
    },
    {
      "cell_type": "markdown",
      "metadata": {
        "id": "PiS56nh9NUen"
      },
      "source": [
        "**Now compare the noisy and denoised version of the Fasiohn MNIST(visually)**"
      ]
    },
    {
      "cell_type": "code",
      "metadata": {
        "id": "tf-OVH75QAac",
        "colab": {
          "base_uri": "https://localhost:8080/",
          "height": 875
        },
        "outputId": "f8740db5-f63d-403c-efc7-0a79a6b2c85d"
      },
      "source": [
        "images = train_dataset.data / 128 - 1\n",
        "perm = torch.randperm(len(images))\n",
        "\n",
        "original_img = images[perm][0].view(-1, 28 * 28).requires_grad_()\n",
        "noisy_img = original_img + 0.1 * torch.randn(original_img.shape)\n",
        "output_img = model.forward(noisy_img)\n",
        "\n",
        "original_img = original_img.reshape(28, 28)\n",
        "noisy_img = noisy_img.reshape(28, 28)\n",
        "output_img = output_img.reshape(28, 28)\n",
        "\n",
        "plt.imshow(original_img.detach())\n",
        "plt.title('Original Image')\n",
        "plt.show()\n",
        "\n",
        "plt.imshow(noisy_img.detach())\n",
        "plt.title('Noisy Image')\n",
        "plt.show()\n",
        "\n",
        "plt.imshow(output_img.detach())\n",
        "plt.title('Output Image')\n",
        "plt.show()"
      ],
      "execution_count": 47,
      "outputs": [
        {
          "output_type": "display_data",
          "data": {
            "image/png": "[encoded data removed]",
            "text/plain": [
              "<Figure size 432x288 with 1 Axes>"
            ]
          },
          "metadata": {
            "tags": []
          }
        },
        {
          "output_type": "display_data",
          "data": {
            "image/png": "[encoded data removed]",
            "text/plain": [
              "<Figure size 432x288 with 1 Axes>"
            ]
          },
          "metadata": {
            "tags": []
          }
        },
        {
          "output_type": "display_data",
          "data": {
            "image/png": "[encoded data removed]",
            "text/plain": [
              "<Figure size 432x288 with 1 Axes>"
            ]
          },
          "metadata": {
            "tags": []
          }
        }
      ]
    }
  ]
}