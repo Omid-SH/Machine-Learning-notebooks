{
 "cells": [
  {
   "cell_type": "markdown",
   "metadata": {
    "toc": true
   },
   "source": [
    "<h1>Table of Contents<span class=\"tocSkip\"></span></h1>\n",
    "<div class=\"toc\"><ul class=\"toc-item\"><li><span><a href=\"#Description\" data-toc-modified-id=\"Description-1\"><span class=\"toc-item-num\">1&nbsp;&nbsp;</span>Description</a></span></li><li><span><a href=\"#Import\" data-toc-modified-id=\"Import-2\"><span class=\"toc-item-num\">2&nbsp;&nbsp;</span>Import</a></span></li><li><span><a href=\"#Array-creation\" data-toc-modified-id=\"Array-creation-3\"><span class=\"toc-item-num\">3&nbsp;&nbsp;</span>Array creation</a></span></li><li><span><a href=\"#Prime-Numbers\" data-toc-modified-id=\"Prime-Numbers-4\"><span class=\"toc-item-num\">4&nbsp;&nbsp;</span>Prime Numbers</a></span></li><li><span><a href=\"#Element-wise-Multiplication\" data-toc-modified-id=\"Element-wise-Multiplication-5\"><span class=\"toc-item-num\">5&nbsp;&nbsp;</span>Element-wise Multiplication</a></span></li><li><span><a href=\"#Replacement\" data-toc-modified-id=\"Replacement-6\"><span class=\"toc-item-num\">6&nbsp;&nbsp;</span>Replacement</a></span></li><li><span><a href=\"#Axis-Swap\" data-toc-modified-id=\"Axis-Swap-7\"><span class=\"toc-item-num\">7&nbsp;&nbsp;</span>Axis Swap</a></span></li><li><span><a href=\"#Transposing\" data-toc-modified-id=\"Transposing-8\"><span class=\"toc-item-num\">8&nbsp;&nbsp;</span>Transposing</a></span></li><li><span><a href=\"#Matrix-Multiplication\" data-toc-modified-id=\"Matrix-Multiplication-9\"><span class=\"toc-item-num\">9&nbsp;&nbsp;</span>Matrix Multiplication</a></span></li><li><span><a href=\"#Cartesian-Prodoct\" data-toc-modified-id=\"Cartesian-Prodoct-10\"><span class=\"toc-item-num\">10&nbsp;&nbsp;</span>Cartesian Prodoct</a></span></li><li><span><a href=\"#Sum-along-Axis\" data-toc-modified-id=\"Sum-along-Axis-11\"><span class=\"toc-item-num\">11&nbsp;&nbsp;</span>Sum along Axis</a></span></li><li><span><a href=\"#Determinant\" data-toc-modified-id=\"Determinant-12\"><span class=\"toc-item-num\">12&nbsp;&nbsp;</span>Determinant</a></span></li></ul></div>"
   ]
  },
  {
   "cell_type": "markdown",
   "metadata": {},
   "source": [
    "## Description\n",
    "Numpy is one of the most important Python libraries in data science. In this problem, we are going to get familiar with this library. \n",
    "\n",
    "**Note**: In the following cells, the input of each cell is the output of its previous cell. So, order of execution of the cells is important."
   ]
  },
  {
   "cell_type": "markdown",
   "metadata": {},
   "source": [
    "## Import \n",
    "Put all of your imports for this file in the below cell."
   ]
  },
  {
   "cell_type": "code",
   "execution_count": 58,
   "metadata": {},
   "outputs": [],
   "source": [
    "import numpy as np"
   ]
  },
  {
   "cell_type": "markdown",
   "metadata": {},
   "source": [
    "#### Array creation\n",
    "Create the followings to numpy array:\n",
    "* A: a 3\\*3 array that filled with number 1 to 9 row wise. like this:\n",
    "$$\n",
    "A = \\left(\\begin{array}{cc} \n",
    "1 & 2 & 3\\\\\n",
    "4 & 5 & 6\\\\\n",
    "7 & 8 & 9\n",
    "\\end{array}\\right)\n",
    "$$ \n",
    "* B: a 3\\*3\\*5 that filled with the numbers start from 11 and have steps of 3 to the end. The array should be filled first along the first dimension then the second dimension and at last the third dimension. like this:\n",
    "$$\n",
    "B[:, :, 0] = \\left(\\begin{array}{cc} \n",
    "11 & 20 & 29\\\\\n",
    "14 & 23 & 32\\\\\n",
    "17 & 26 & 35\n",
    "\\end{array}\\right)\n",
    "$$ "
   ]
  },
  {
   "cell_type": "code",
   "execution_count": 59,
   "metadata": {},
   "outputs": [
    {
     "name": "stdout",
     "output_type": "stream",
     "text": [
      "[[1 2 3]\n",
      " [4 5 6]\n",
      " [7 8 9]]\n",
      "[[11 20 29]\n",
      " [14 23 32]\n",
      " [17 26 35]]\n"
     ]
    }
   ],
   "source": [
    "A = np.arange(9) + 1\n",
    "A = A.reshape(3,3)\n",
    "print(A)\n",
    "\n",
    "B = np.arange(3*3*5) * 3 + 11\n",
    "B = B.reshape(3,3,5,order='F')\n",
    "print(B[:,:,0])"
   ]
  },
  {
   "cell_type": "markdown",
   "metadata": {},
   "source": [
    "## Prime Numbers \n",
    "Replace the elements with prime values in the array A with 10."
   ]
  },
  {
   "cell_type": "code",
   "execution_count": 60,
   "metadata": {},
   "outputs": [
    {
     "name": "stdout",
     "output_type": "stream",
     "text": [
      "[[ 1 10 10]\n",
      " [ 4 10  6]\n",
      " [10  8  9]]\n"
     ]
    }
   ],
   "source": [
    "def is_prime(n):\n",
    "    if n == 1:\n",
    "        return False;\n",
    "    for i in range(2,n):\n",
    "        if(n % i == 0):\n",
    "            return False\n",
    "    return True\n",
    "\n",
    "for i in range(A.shape[0]) :\n",
    "    for j in range(A.shape[1]):\n",
    "        if(is_prime(A[i][j])):\n",
    "            A[i][j] = 10\n",
    "\n",
    "print(A)"
   ]
  },
  {
   "cell_type": "markdown",
   "metadata": {},
   "source": [
    "## Element-wise Multiplication\n",
    "Calculate the element wise multiplication of arrays A and B and put the result in B. Then print the result."
   ]
  },
  {
   "cell_type": "code",
   "execution_count": 61,
   "metadata": {},
   "outputs": [
    {
     "name": "stdout",
     "output_type": "stream",
     "text": [
      "[[[  11   38   65   92  119]\n",
      "  [ 200  470  740 1010 1280]\n",
      "  [ 290  560  830 1100 1370]]\n",
      "\n",
      " [[  56  164  272  380  488]\n",
      "  [ 230  500  770 1040 1310]\n",
      "  [ 192  354  516  678  840]]\n",
      "\n",
      " [[ 170  440  710  980 1250]\n",
      "  [ 208  424  640  856 1072]\n",
      "  [ 315  558  801 1044 1287]]]\n"
     ]
    }
   ],
   "source": [
    "for i in range(B.shape[2]):\n",
    "    B[:,:,i] = np.multiply(A,B[:,:,i])\n",
    "print(B)"
   ]
  },
  {
   "cell_type": "markdown",
   "metadata": {},
   "source": [
    "## Replacement\n",
    "Replace the last slice of array B (B[:, :, 4]) with values of A. Then print the result."
   ]
  },
  {
   "cell_type": "code",
   "execution_count": 62,
   "metadata": {},
   "outputs": [
    {
     "name": "stdout",
     "output_type": "stream",
     "text": [
      "B[:,:,0] = \n",
      "[[ 11 200 290]\n",
      " [ 56 230 192]\n",
      " [170 208 315]]\n",
      "B[:,:,1] = \n",
      "[[ 38 470 560]\n",
      " [164 500 354]\n",
      " [440 424 558]]\n",
      "B[:,:,2] = \n",
      "[[ 65 740 830]\n",
      " [272 770 516]\n",
      " [710 640 801]]\n",
      "B[:,:,3] = \n",
      "[[  92 1010 1100]\n",
      " [ 380 1040  678]\n",
      " [ 980  856 1044]]\n",
      "B[:,:,4] = \n",
      "[[ 1 10 10]\n",
      " [ 4 10  6]\n",
      " [10  8  9]]\n"
     ]
    }
   ],
   "source": [
    "B[:, :, 4] = A\n",
    "\n",
    "for i in range(B.shape[2]):\n",
    "    print(\"B[:,:,\", i, \"] = \", sep = \"\")\n",
    "    print(B[:,:,i])"
   ]
  },
  {
   "cell_type": "markdown",
   "metadata": {},
   "source": [
    "## Axis Swap \n",
    "Swap the first(B[:, :, 0]) and last(B[:, :, 4]) slice of the array B **only with one line of code**. Then print the result."
   ]
  },
  {
   "cell_type": "code",
   "execution_count": 63,
   "metadata": {},
   "outputs": [
    {
     "name": "stdout",
     "output_type": "stream",
     "text": [
      "B[:,:,0] = \n",
      "[[ 1 10 10]\n",
      " [ 4 10  6]\n",
      " [10  8  9]]\n",
      "B[:,:,1] = \n",
      "[[ 38 470 560]\n",
      " [164 500 354]\n",
      " [440 424 558]]\n",
      "B[:,:,2] = \n",
      "[[ 65 740 830]\n",
      " [272 770 516]\n",
      " [710 640 801]]\n",
      "B[:,:,3] = \n",
      "[[  92 1010 1100]\n",
      " [ 380 1040  678]\n",
      " [ 980  856 1044]]\n",
      "B[:,:,4] = \n",
      "[[ 11 200 290]\n",
      " [ 56 230 192]\n",
      " [170 208 315]]\n"
     ]
    }
   ],
   "source": [
    "B = np.concatenate((np.atleast_3d(B[:,:,4]), np.atleast_3d(B[:,:,1:4]), np.atleast_3d(B[:,:,0])), axis=2)\n",
    "\n",
    "for i in range(B.shape[2]):\n",
    "    print(\"B[:,:,\", i, \"] = \", sep = \"\")\n",
    "    print(B[:,:,i])"
   ]
  },
  {
   "cell_type": "markdown",
   "metadata": {},
   "source": [
    "## Transposing \n",
    "Transpose the array B elements in each slice. Then print the result."
   ]
  },
  {
   "cell_type": "code",
   "execution_count": 66,
   "metadata": {},
   "outputs": [
    {
     "name": "stdout",
     "output_type": "stream",
     "text": [
      "B[:,:,0] = \n",
      "[[ 1  4 10]\n",
      " [10 10  8]\n",
      " [10  6  9]]\n",
      "B[:,:,1] = \n",
      "[[ 38 164 440]\n",
      " [470 500 424]\n",
      " [560 354 558]]\n",
      "B[:,:,2] = \n",
      "[[ 65 272 710]\n",
      " [740 770 640]\n",
      " [830 516 801]]\n",
      "B[:,:,3] = \n",
      "[[  92  380  980]\n",
      " [1010 1040  856]\n",
      " [1100  678 1044]]\n",
      "B[:,:,4] = \n",
      "[[ 11  56 170]\n",
      " [200 230 208]\n",
      " [290 192 315]]\n",
      "[[[   1   38   65   92   11]\n",
      "  [   4  164  272  380   56]\n",
      "  [  10  440  710  980  170]]\n",
      "\n",
      " [[  10  470  740 1010  200]\n",
      "  [  10  500  770 1040  230]\n",
      "  [   8  424  640  856  208]]\n",
      "\n",
      " [[  10  560  830 1100  290]\n",
      "  [   6  354  516  678  192]\n",
      "  [   9  558  801 1044  315]]]\n"
     ]
    }
   ],
   "source": [
    "for i in range(B.shape[2]):\n",
    "    B[:,:,i] = np.transpose(B[:,:,i])\n",
    "    print(\"B[:,:,\", i, \"] = \", sep = \"\")\n",
    "    print(B[:,:,i])\n",
    "print(B)"
   ]
  },
  {
   "cell_type": "markdown",
   "metadata": {},
   "source": [
    "## Matrix Multiplication\n",
    "Calculate the matrix multiplication of all slices of the array B. \n",
    "(B[:, :, 0] \\* B[:, :, 1] \\* B[:, :, 2] \\* B[:, :, 3] \\* B[:, :, 4]). Then print the result.\n",
    "\n",
    "**Note**: the result should be a 3\\*3 array. "
   ]
  },
  {
   "cell_type": "code",
   "execution_count": 68,
   "metadata": {},
   "outputs": [
    {
     "name": "stdout",
     "output_type": "stream",
     "text": [
      "[[1.57164947e+13 1.42538533e+13 2.12990938e+13]\n",
      " [2.49852948e+13 2.26168386e+13 3.37545632e+13]\n",
      " [2.18312802e+13 1.97540806e+13 2.94853764e+13]]\n"
     ]
    }
   ],
   "source": [
    "R = np.eye(3)\n",
    "for i in range(B.shape[2]):\n",
    "    R = np.matmul(R ,B[:,:,i])\n",
    "    \n",
    "print(R)"
   ]
  },
  {
   "cell_type": "markdown",
   "metadata": {},
   "source": [
    "## Cartesian Prodoct\n",
    "Calculate the cartesian product of all columns of the array and put them in one slice. Then print the result.\n",
    "\n",
    "**Note**: the result should be a 3\\*3\\*3\\*3 array. "
   ]
  },
  {
   "cell_type": "code",
   "execution_count": 69,
   "metadata": {},
   "outputs": [
    {
     "name": "stdout",
     "output_type": "stream",
     "text": [
      "[[[[1.57164947e+13 1.42538533e+13 2.12990938e+13]\n",
      "   [1.57164947e+13 1.42538533e+13 3.37545632e+13]\n",
      "   [1.57164947e+13 1.42538533e+13 2.94853764e+13]]\n",
      "\n",
      "  [[1.57164947e+13 2.26168386e+13 2.12990938e+13]\n",
      "   [1.57164947e+13 2.26168386e+13 3.37545632e+13]\n",
      "   [1.57164947e+13 2.26168386e+13 2.94853764e+13]]\n",
      "\n",
      "  [[1.57164947e+13 1.97540806e+13 2.12990938e+13]\n",
      "   [1.57164947e+13 1.97540806e+13 3.37545632e+13]\n",
      "   [1.57164947e+13 1.97540806e+13 2.94853764e+13]]]\n",
      "\n",
      "\n",
      " [[[2.49852948e+13 1.42538533e+13 2.12990938e+13]\n",
      "   [2.49852948e+13 1.42538533e+13 3.37545632e+13]\n",
      "   [2.49852948e+13 1.42538533e+13 2.94853764e+13]]\n",
      "\n",
      "  [[2.49852948e+13 2.26168386e+13 2.12990938e+13]\n",
      "   [2.49852948e+13 2.26168386e+13 3.37545632e+13]\n",
      "   [2.49852948e+13 2.26168386e+13 2.94853764e+13]]\n",
      "\n",
      "  [[2.49852948e+13 1.97540806e+13 2.12990938e+13]\n",
      "   [2.49852948e+13 1.97540806e+13 3.37545632e+13]\n",
      "   [2.49852948e+13 1.97540806e+13 2.94853764e+13]]]\n",
      "\n",
      "\n",
      " [[[2.18312802e+13 1.42538533e+13 2.12990938e+13]\n",
      "   [2.18312802e+13 1.42538533e+13 3.37545632e+13]\n",
      "   [2.18312802e+13 1.42538533e+13 2.94853764e+13]]\n",
      "\n",
      "  [[2.18312802e+13 2.26168386e+13 2.12990938e+13]\n",
      "   [2.18312802e+13 2.26168386e+13 3.37545632e+13]\n",
      "   [2.18312802e+13 2.26168386e+13 2.94853764e+13]]\n",
      "\n",
      "  [[2.18312802e+13 1.97540806e+13 2.12990938e+13]\n",
      "   [2.18312802e+13 1.97540806e+13 3.37545632e+13]\n",
      "   [2.18312802e+13 1.97540806e+13 2.94853764e+13]]]]\n"
     ]
    }
   ],
   "source": [
    "CP = np.empty([3, 3, 3, 3])\n",
    "\n",
    "for i in range(3):\n",
    "    for j in range(3):\n",
    "        for k in range(3):\n",
    "            CP[i][j][k][0] = R[i][0]\n",
    "            CP[i][j][k][1] = R[j][1]\n",
    "            CP[i][j][k][2] = R[k][2]\n",
    "            \n",
    "print(CP)"
   ]
  },
  {
   "cell_type": "markdown",
   "metadata": {},
   "source": [
    "## Sum along Axis\n",
    "Calculate the sum of values of the array along its two last dimensions. Then print it. \n",
    "\n",
    "**Note**: the result is a 3\\*3 array. "
   ]
  },
  {
   "cell_type": "code",
   "execution_count": 70,
   "metadata": {},
   "outputs": [
    {
     "data": {
      "text/plain": [
       "array([[1.74450077e+14, 1.99539033e+14, 1.90950759e+14],\n",
       "       [2.02256478e+14, 2.27345434e+14, 2.18757160e+14],\n",
       "       [1.92794434e+14, 2.17883390e+14, 2.09295116e+14]])"
      ]
     },
     "execution_count": 70,
     "metadata": {},
     "output_type": "execute_result"
    }
   ],
   "source": [
    "SP = np.sum(CP, axis=3)\n",
    "SP = np.sum(SP, axis=2)\n",
    "SP"
   ]
  },
  {
   "cell_type": "markdown",
   "metadata": {},
   "source": [
    "## Determinant\n",
    "Calculate the determinant of the array and print it."
   ]
  },
  {
   "cell_type": "code",
   "execution_count": 72,
   "metadata": {},
   "outputs": [
    {
     "data": {
      "text/plain": [
       "8.005072516878247e+24"
      ]
     },
     "execution_count": 72,
     "metadata": {},
     "output_type": "execute_result"
    }
   ],
   "source": [
    "np.linalg.det(SP) "
   ]
  }
 ],
 "metadata": {
  "kernelspec": {
   "display_name": "Python 3",
   "language": "python",
   "name": "python3"
  },
  "language_info": {
   "codemirror_mode": {
    "name": "ipython",
    "version": 3
   },
   "file_extension": ".py",
   "mimetype": "text/x-python",
   "name": "python",
   "nbconvert_exporter": "python",
   "pygments_lexer": "ipython3",
   "version": "3.8.3"
  },
  "toc": {
   "base_numbering": 1,
   "nav_menu": {},
   "number_sections": true,
   "sideBar": true,
   "skip_h1_title": false,
   "title_cell": "Table of Contents",
   "title_sidebar": "Contents",
   "toc_cell": true,
   "toc_position": {},
   "toc_section_display": true,
   "toc_window_display": true
  }
 },
 "nbformat": 4,
 "nbformat_minor": 4
}
